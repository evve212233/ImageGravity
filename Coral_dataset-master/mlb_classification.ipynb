{
 "cells": [
  {
   "cell_type": "code",
   "execution_count": null,
   "metadata": {},
   "outputs": [],
   "source": [
    "import numpy as np\n",
    "import keras\n",
    "import pickle\n",
    "from keras.utils.io_utils import HDF5Matrix\n",
    "from keras import backend as K\n",
    "from keras.models import Sequential\n",
    "from keras.layers import Activation\n",
    "from keras.layers.core import Dense, Flatten\n",
    "from keras.optimizers import Adam\n",
    "from keras.metrics import binary_crossentropy\n",
    "from keras.preprocessing.image import ImageDataGenerator\n",
    "from keras.layers.normalization import BatchNormalization\n",
    "from keras.layers.convolutional import *\n",
    "from keras.models import load_model\n",
    "from matplotlib import pyplot as plt\n",
    "from sklearn.metrics import f1_score\n",
    "from sklearn.utils.class_weight import compute_class_weight\n",
    "import itertools\n",
    "from functions import plot_metrics, plot_images, class_weights_from_labels, f1, plot_f1\n",
    "%matplotlib inline"
   ]
  },
  {
   "cell_type": "code",
   "execution_count": null,
   "metadata": {},
   "outputs": [],
   "source": [
    "keras.__version__"
   ]
  },
  {
   "cell_type": "code",
   "execution_count": null,
   "metadata": {},
   "outputs": [],
   "source": [
    "datapath = '/Users/diegoeduardo/Desktop/Image Gravity Project/Coral Reef Data desk/dataset/mlb_data_reduced.hdf5'\n",
    "\n",
    "train_img = HDF5Matrix(datapath, 'train_img')\n",
    "train_labels = HDF5Matrix(datapath, 'train_labels')\n",
    "\n",
    "val_img = HDF5Matrix(datapath, 'val_img')\n",
    "val_labels = HDF5Matrix(datapath, 'val_labels')\n",
    "\n",
    "test_img = HDF5Matrix(datapath, 'test_img')\n",
    "test_labels = HDF5Matrix(datapath, 'test_labels')"
   ]
  },
  {
   "cell_type": "code",
   "execution_count": null,
   "metadata": {},
   "outputs": [],
   "source": [
    "batch_size = 32\n",
    "\n",
    "train_batches = ImageDataGenerator(rescale=1./255).flow(train_img, train_labels, batch_size=batch_size)\n",
    "val_batches = ImageDataGenerator(rescale=1./255).flow(val_img, val_labels, batch_size=batch_size)\n",
    "test_batches = ImageDataGenerator(rescale=1./255).flow(test_img, test_labels, batch_size=batch_size)"
   ]
  },
  {
   "cell_type": "code",
   "execution_count": null,
   "metadata": {},
   "outputs": [],
   "source": [
    "with open('/Users/diegoeduardo/Desktop/Image Gravity Project/Coral Reef Data desk/dataset/classes_reduced.txt', \"rb\") as fp:\n",
    "    classes = pickle.load(fp)"
   ]
  },
  {
   "cell_type": "code",
   "execution_count": null,
   "metadata": {},
   "outputs": [],
   "source": [
    "train_top_only = True\n",
    "\n",
    "vgg16_model_temp = keras.applications.vgg16.VGG16()\n",
    "vgg16_model = Sequential()\n",
    "for layer in vgg16_model_temp.layers[:-1]:\n",
    "    vgg16_model.add(layer)\n",
    "del vgg16_model_temp\n",
    "if train_top_only:\n",
    "    for layer in vgg16_model.layers:\n",
    "        layer.trainable = False\n",
    "vgg16_model.add(Dense(len(classes), activation='sigmoid')) #use sigmoid in multi-label problems"
   ]
  },
  {
   "cell_type": "code",
   "execution_count": null,
   "metadata": {
    "scrolled": true
   },
   "outputs": [],
   "source": [
    "vgg16_model.summary()"
   ]
  },
  {
   "cell_type": "code",
   "execution_count": null,
   "metadata": {},
   "outputs": [],
   "source": [
    "early_stopping = keras.callbacks.EarlyStopping(monitor='val_f1', min_delta=1e-4, patience=5, verbose=1, \n",
    "                                               mode='max')\n",
    "filepath = '/Users/diegoeduardo/Desktop/Image Gravity Project/Coral Reef Data desk/models/mlb_classifier.h5'\n",
    "checkpoint = keras.callbacks.ModelCheckpoint(filepath, monitor='val_f1', verbose=1, save_best_only=True, \n",
    "                                             save_weights_only=False, mode='max', period=1)"
   ]
  },
  {
   "cell_type": "code",
   "execution_count": null,
   "metadata": {},
   "outputs": [],
   "source": [
    "learning_rate = 1e-4\n",
    "steps_per_epoch = train_img.shape[0] // batch_size #198 to go through all examples\n",
    "val_steps = 10 #32*10 = 320 examples for validation --> do not use all exanples --> reduce time of computation\n",
    "class_weights = class_weights_from_labels(train_labels)\n",
    "epochs = 100"
   ]
  },
  {
   "cell_type": "code",
   "execution_count": null,
   "metadata": {},
   "outputs": [],
   "source": [
    "#use binary crossentropy in multi-label problems\n",
    "vgg16_model.compile(Adam(lr=learning_rate), loss='binary_crossentropy', metrics=['accuracy', f1])"
   ]
  },
  {
   "cell_type": "code",
   "execution_count": null,
   "metadata": {
    "scrolled": true
   },
   "outputs": [],
   "source": [
    "history = vgg16_model.fit_generator(train_batches, steps_per_epoch=steps_per_epoch, \n",
    "                                    epochs=epochs, validation_data=val_batches, \n",
    "                                    validation_steps=val_steps, class_weight=class_weights,\n",
    "                                    callbacks=[checkpoint, early_stopping], verbose=1)"
   ]
  },
  {
   "cell_type": "code",
   "execution_count": null,
   "metadata": {},
   "outputs": [],
   "source": [
    "plot_metrics(history.history)"
   ]
  },
  {
   "cell_type": "code",
   "execution_count": null,
   "metadata": {},
   "outputs": [],
   "source": [
    "test_steps = 20\n",
    "test_labels = np.zeros((test_steps*batch_size, len(classes)))\n",
    "for i in range(test_steps):\n",
    "    test_imgs, test_labels_temp = next(test_batches)\n",
    "    test_labels[i*batch_size:(i+1)*batch_size] = test_labels_temp\n",
    "predictions = vgg16_model.predict_generator(test_batches, steps=test_steps, verbose=0)"
   ]
  },
  {
   "cell_type": "code",
   "execution_count": null,
   "metadata": {},
   "outputs": [],
   "source": [
    "plot_f1(test_labels, preds, average='samples')"
   ]
  }
 ],
 "metadata": {
  "kernelspec": {
   "display_name": "Python 3",
   "language": "python",
   "name": "python3"
  },
  "language_info": {
   "codemirror_mode": {
    "name": "ipython",
    "version": 3
   },
   "file_extension": ".py",
   "mimetype": "text/x-python",
   "name": "python",
   "nbconvert_exporter": "python",
   "pygments_lexer": "ipython3",
   "version": "3.6.4"
  }
 },
 "nbformat": 4,
 "nbformat_minor": 2
}
