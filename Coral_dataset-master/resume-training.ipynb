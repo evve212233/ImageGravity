{
 "cells": [
  {
   "cell_type": "code",
   "execution_count": null,
   "metadata": {},
   "outputs": [],
   "source": [
    "import numpy as np\n",
    "import keras\n",
    "import pickle\n",
    "from keras.utils.io_utils import HDF5Matrix\n",
    "from keras import backend as K\n",
    "from keras.models import Sequential\n",
    "from keras.layers import Activation\n",
    "from keras.layers.core import Dense, Flatten\n",
    "from keras.optimizers import Adam\n",
    "from keras.metrics import binary_crossentropy\n",
    "from keras.preprocessing.image import ImageDataGenerator\n",
    "from keras.layers.normalization import BatchNormalization\n",
    "from keras.layers.convolutional import *\n",
    "from keras.models import load_model\n",
    "from matplotlib import pyplot as plt\n",
    "from sklearn.metrics import confusion_matrix, f1_score\n",
    "from sklearn.utils.class_weight import compute_class_weight\n",
    "import itertools\n",
    "from functions import encode, decode, plot_confusion_matrix, plot_metrics, plot_images, class_weights_from_labels, f1, plot_f1\n",
    "%matplotlib inline"
   ]
  },
  {
   "cell_type": "code",
   "execution_count": null,
   "metadata": {},
   "outputs": [],
   "source": [
    "keras.__version__"
   ]
  },
  {
   "cell_type": "code",
   "execution_count": null,
   "metadata": {},
   "outputs": [],
   "source": [
    "train_path = '/Users/diegoeduardo/Desktop/Image Gravity Project/Coral Reef Data desk/annotated images balanced/train'\n",
    "valid_path = '/Users/diegoeduardo/Desktop/Image Gravity Project/Coral Reef Data desk/annotated images balanced/valid'\n",
    "test_path = '/Users/diegoeduardo/Desktop/Image Gravity Project/Coral Reef Data desk/annotated images balanced/test'"
   ]
  },
  {
   "cell_type": "code",
   "execution_count": null,
   "metadata": {},
   "outputs": [],
   "source": [
    "with open('/Users/diegoeduardo/Desktop/Image Gravity Project/Coral Reef Data desk/dataset/classes_reduced.txt', \"rb\") as fp:\n",
    "    classes = pickle.load(fp)"
   ]
  },
  {
   "cell_type": "code",
   "execution_count": null,
   "metadata": {},
   "outputs": [],
   "source": [
    "train_batches = ImageDataGenerator(rescale=1./255).flow_from_directory(train_path, target_size=(224, 224), \n",
    "                                                         classes=classes, batch_size=32)\n",
    "\n",
    "valid_batches = ImageDataGenerator(rescale=1./255).flow_from_directory(valid_path, target_size=(224, 224), \n",
    "                                                         classes=classes, batch_size=32)\n",
    "\n",
    "test_batches = ImageDataGenerator(rescale=1./255).flow_from_directory(test_path, target_size=(224, 224), \n",
    "                                                        classes=classes, batch_size=100)"
   ]
  },
  {
   "cell_type": "code",
   "execution_count": null,
   "metadata": {},
   "outputs": [],
   "source": [
    "vgg16_model = load_model('/Users/diegoeduardo/Desktop/Image Gravity Project/Coral Reef Data desk/models/mlb_classifier.h5', custom_objects={'f1': f1})"
   ]
  },
  {
   "cell_type": "code",
   "execution_count": null,
   "metadata": {},
   "outputs": [],
   "source": [
    "vgg16_model.summary()"
   ]
  },
  {
   "cell_type": "code",
   "execution_count": null,
   "metadata": {},
   "outputs": [],
   "source": [
    "batch_size = 32\n",
    "learning_rate = 1e-4\n",
    "steps_per_epoch = 13500 // batch_size #to go through all examples\n",
    "val_steps = 2700 // batch_size #32*10 = 320 examples for validation --> do not use all examples --> reduce time of computation\n",
    "epochs = 20"
   ]
  },
  {
   "cell_type": "code",
   "execution_count": null,
   "metadata": {},
   "outputs": [],
   "source": [
    "early_stopping = keras.callbacks.EarlyStopping(monitor='val_f1', min_delta=1e-4, patience=5, verbose=1, \n",
    "                                               mode='max')\n",
    "filepath = '/Users/diegoeduardo/Desktop/Image Gravity Project/Coral Reef Data desk/models/mlb_classifier.h5'\n",
    "checkpoint = keras.callbacks.ModelCheckpoint(filepath, monitor='val_f1', verbose=1, save_best_only=True, \n",
    "                                             save_weights_only=False, mode='max', period=1)"
   ]
  },
  {
   "cell_type": "code",
   "execution_count": null,
   "metadata": {},
   "outputs": [],
   "source": [
    "history = vgg16_model.fit_generator(train_batches, steps_per_epoch=steps_per_epoch, \n",
    "                                    epochs=epochs, validation_data=valid_batches, \n",
    "                                    validation_steps=val_steps,\n",
    "                                    callbacks=[checkpoint, early_stopping], verbose=1)"
   ]
  },
  {
   "cell_type": "code",
   "execution_count": null,
   "metadata": {},
   "outputs": [],
   "source": []
  }
 ],
 "metadata": {
  "kernelspec": {
   "display_name": "Python 3",
   "language": "python",
   "name": "python3"
  },
  "language_info": {
   "codemirror_mode": {
    "name": "ipython",
    "version": 3
   },
   "file_extension": ".py",
   "mimetype": "text/x-python",
   "name": "python",
   "nbconvert_exporter": "python",
   "pygments_lexer": "ipython3",
   "version": "3.6.4"
  }
 },
 "nbformat": 4,
 "nbformat_minor": 2
}
